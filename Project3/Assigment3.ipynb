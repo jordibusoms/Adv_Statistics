{
 "cells": [
  {
   "cell_type": "code",
   "execution_count": 1,
   "metadata": {},
   "outputs": [
    {
     "name": "stderr",
     "output_type": "stream",
     "text": [
      "WARNING (theano.configdefaults): install mkl with `conda install mkl-service`: No module named 'mkl'\n"
     ]
    }
   ],
   "source": [
    "import pandas as pd\n",
    "import matplotlib.pyplot as plt\n",
    "import pymc3 as pm"
   ]
  },
  {
   "cell_type": "code",
   "execution_count": 4,
   "metadata": {},
   "outputs": [
    {
     "data": {
      "text/html": [
       "<div>\n",
       "<style scoped>\n",
       "    .dataframe tbody tr th:only-of-type {\n",
       "        vertical-align: middle;\n",
       "    }\n",
       "\n",
       "    .dataframe tbody tr th {\n",
       "        vertical-align: top;\n",
       "    }\n",
       "\n",
       "    .dataframe thead th {\n",
       "        text-align: right;\n",
       "    }\n",
       "</style>\n",
       "<table border=\"1\" class=\"dataframe\">\n",
       "  <thead>\n",
       "    <tr style=\"text-align: right;\">\n",
       "      <th></th>\n",
       "      <th>Protein</th>\n",
       "      <th>Carbohydrates</th>\n",
       "      <th>Fat</th>\n",
       "      <th>ATP</th>\n",
       "    </tr>\n",
       "  </thead>\n",
       "  <tbody>\n",
       "    <tr>\n",
       "      <th>0</th>\n",
       "      <td>1.95</td>\n",
       "      <td>6.92</td>\n",
       "      <td>0.02</td>\n",
       "      <td>9.44</td>\n",
       "    </tr>\n",
       "    <tr>\n",
       "      <th>1</th>\n",
       "      <td>0.64</td>\n",
       "      <td>2.65</td>\n",
       "      <td>0.15</td>\n",
       "      <td>4.04</td>\n",
       "    </tr>\n",
       "    <tr>\n",
       "      <th>2</th>\n",
       "      <td>1.82</td>\n",
       "      <td>0.98</td>\n",
       "      <td>0.21</td>\n",
       "      <td>3.72</td>\n",
       "    </tr>\n",
       "    <tr>\n",
       "      <th>3</th>\n",
       "      <td>1.80</td>\n",
       "      <td>4.69</td>\n",
       "      <td>0.23</td>\n",
       "      <td>7.54</td>\n",
       "    </tr>\n",
       "    <tr>\n",
       "      <th>4</th>\n",
       "      <td>0.93</td>\n",
       "      <td>4.22</td>\n",
       "      <td>0.02</td>\n",
       "      <td>5.70</td>\n",
       "    </tr>\n",
       "  </tbody>\n",
       "</table>\n",
       "</div>"
      ],
      "text/plain": [
       "   Protein  Carbohydrates   Fat   ATP\n",
       "0     1.95           6.92  0.02  9.44\n",
       "1     0.64           2.65  0.15  4.04\n",
       "2     1.82           0.98  0.21  3.72\n",
       "3     1.80           4.69  0.23  7.54\n",
       "4     0.93           4.22  0.02  5.70"
      ]
     },
     "execution_count": 4,
     "metadata": {},
     "output_type": "execute_result"
    }
   ],
   "source": [
    "data_table = pd.read_csv(\"../Project2/diet_and_atp.tsv\", sep='\\t')\n",
    "data_table.head()"
   ]
  },
  {
   "cell_type": "markdown",
   "metadata": {},
   "source": [
    "## 1) Write a python script that construct the model that we were investigating in pyMC3.\n",
    "\n",
    "\n",
    "**ATP** = **a  Proteins + b  Carbohydrates + c  Fats +** **ε** \n",
    "\n",
    "Knowing that each value of Protein, Carbohydrates and Fats is a relative value to a maximum established by the researchers chosen in a random fashion to gives as a diet to the patients.\n",
    "\n",
    "**Proteins ~ Uniform(0,1)**\n",
    "\n",
    "**Carbohydrates ~ Uniform(0,1)**\n",
    "\n",
    "**Fats ~ Uniform(0,1)**\n",
    "\n",
    "The values of Proteins, Carbohydrates and Fats in the file are the ones measured to the patients afterwards in blood tests."
   ]
  },
  {
   "cell_type": "code",
   "execution_count": 8,
   "metadata": {},
   "outputs": [],
   "source": [
    "# I create my parametric model (making initial guesses)\n",
    "with pm.Model() as model:\n",
    "    a = pm.Uniform(\"a\",0,5)\n",
    "    b = pm.Uniform(\"b\",0,5)  \n",
    "    c = pm.Uniform(\"c\",0,5) \n",
    "    Prot = data_table[\"Protein\"]\n",
    "    Car = data_table[\"Carbohydrates\"]\n",
    "    Fat = data_table[\"Fat\"]\n",
    "\n",
    "\n",
    "# This says that the random variable lambda_ is equal to lambda_1 if bigger than tau or lambda_2 otherwise\n",
    "with model:\n",
    "    atp_ = a*Prot+b*Car+c*Fat\n",
    "\n",
    "# We add the observations to the model\n",
    "with model:\n",
    "    observation = pm.Poisson(\"obs\", atp_, observed=data_table[\"ATP\"])"
   ]
  },
  {
   "cell_type": "markdown",
   "metadata": {},
   "source": [
    "## 2) Fulfill the observations within the model and run the Metropolis algorithm to infer posterior probabilities."
   ]
  },
  {
   "cell_type": "code",
   "execution_count": 9,
   "metadata": {},
   "outputs": [
    {
     "name": "stderr",
     "output_type": "stream",
     "text": [
      "Multiprocess sampling (4 chains in 4 jobs)\n",
      "CompoundStep\n",
      ">Metropolis: [c]\n",
      ">Metropolis: [b]\n",
      ">Metropolis: [a]\n",
      "Sampling 4 chains, 0 divergences: 100%|██████████| 60000/60000 [00:26<00:00, 2300.48draws/s]\n",
      "The number of effective samples is smaller than 10% for some parameters.\n"
     ]
    }
   ],
   "source": [
    "with model:\n",
    "    step = pm.Metropolis()\n",
    "    trace = pm.sample(10000, tune=5000,step=step)"
   ]
  },
  {
   "cell_type": "markdown",
   "metadata": {},
   "source": [
    "## 3) Plot the traces and the posterior, and explain the results obtained with your own words, but being as much formal as you can."
   ]
  },
  {
   "cell_type": "code",
   "execution_count": 10,
   "metadata": {},
   "outputs": [
    {
     "name": "stderr",
     "output_type": "stream",
     "text": [
      "/srv/conda/envs/notebook/lib/python3.7/site-packages/ipykernel_launcher.py:1: MatplotlibDeprecationWarning: \n",
      "The 'normed' kwarg was deprecated in Matplotlib 2.1 and will be removed in 3.1. Use 'density' instead.\n",
      "  \"\"\"Entry point for launching an IPython kernel.\n"
     ]
    },
    {
     "data": {
      "text/plain": [
       "Text(0.5, 0, '$\\\\lambda_1$ value')"
      ]
     },
     "execution_count": 10,
     "metadata": {},
     "output_type": "execute_result"
    },
    {
     "data": {
      "image/png": "[encoded data removed]",
      "text/plain": [
       "<Figure size 432x288 with 1 Axes>"
      ]
     },
     "metadata": {
      "needs_background": "light"
     },
     "output_type": "display_data"
    }
   ],
   "source": [
    "plt.hist(trace[\"a\"], label=\"posterior of a\", normed=True)\n",
    "plt.legend(loc=\"upper left\")\n",
    "plt.xlabel(\"a value\")"
   ]
  },
  {
   "cell_type": "code",
   "execution_count": 11,
   "metadata": {},
   "outputs": [
    {
     "name": "stderr",
     "output_type": "stream",
     "text": [
      "/srv/conda/envs/notebook/lib/python3.7/site-packages/ipykernel_launcher.py:1: MatplotlibDeprecationWarning: \n",
      "The 'normed' kwarg was deprecated in Matplotlib 2.1 and will be removed in 3.1. Use 'density' instead.\n",
      "  \"\"\"Entry point for launching an IPython kernel.\n"
     ]
    },
    {
     "data": {
      "text/plain": [
       "Text(0.5, 0, 'b value')"
      ]
     },
     "execution_count": 11,
     "metadata": {},
     "output_type": "execute_result"
    },
    {
     "data": {
      "image/png": "[encoded data removed]",
      "text/plain": [
       "<Figure size 432x288 with 1 Axes>"
      ]
     },
     "metadata": {
      "needs_background": "light"
     },
     "output_type": "display_data"
    }
   ],
   "source": [
    "plt.hist(trace[\"b\"], label=\"posterior of b\", normed=True)\n",
    "plt.legend(loc=\"upper left\")\n",
    "plt.xlabel(\"b value\")"
   ]
  },
  {
   "cell_type": "code",
   "execution_count": 12,
   "metadata": {},
   "outputs": [
    {
     "name": "stderr",
     "output_type": "stream",
     "text": [
      "/srv/conda/envs/notebook/lib/python3.7/site-packages/ipykernel_launcher.py:1: MatplotlibDeprecationWarning: \n",
      "The 'normed' kwarg was deprecated in Matplotlib 2.1 and will be removed in 3.1. Use 'density' instead.\n",
      "  \"\"\"Entry point for launching an IPython kernel.\n"
     ]
    },
    {
     "data": {
      "text/plain": [
       "Text(0.5, 0, 'c value')"
      ]
     },
     "execution_count": 12,
     "metadata": {},
     "output_type": "execute_result"
    },
    {
     "data": {
      "image/png": "[encoded data removed]",
      "text/plain": [
       "<Figure size 432x288 with 1 Axes>"
      ]
     },
     "metadata": {
      "needs_background": "light"
     },
     "output_type": "display_data"
    }
   ],
   "source": [
    "plt.hist(trace[\"c\"], label=\"posterior of c\", normed=True)\n",
    "plt.legend(loc=\"upper left\")\n",
    "plt.xlabel(\"c value\")"
   ]
  },
  {
   "cell_type": "code",
   "execution_count": 21,
   "metadata": {},
   "outputs": [
    {
     "name": "stderr",
     "output_type": "stream",
     "text": [
      "/srv/conda/envs/notebook/lib/python3.7/site-packages/ipykernel_launcher.py:1: MatplotlibDeprecationWarning: \n",
      "The 'normed' kwarg was deprecated in Matplotlib 2.1 and will be removed in 3.1. Use 'density' instead.\n",
      "  \"\"\"Entry point for launching an IPython kernel.\n"
     ]
    },
    {
     "data": {
      "image/png": "[encoded data removed]",
      "text/plain": [
       "<Figure size 432x288 with 1 Axes>"
      ]
     },
     "metadata": {
      "needs_background": "light"
     },
     "output_type": "display_data"
    },
    {
     "name": "stderr",
     "output_type": "stream",
     "text": [
      "/srv/conda/envs/notebook/lib/python3.7/site-packages/ipykernel_launcher.py:4: MatplotlibDeprecationWarning: \n",
      "The 'normed' kwarg was deprecated in Matplotlib 2.1 and will be removed in 3.1. Use 'density' instead.\n",
      "  after removing the cwd from sys.path.\n"
     ]
    },
    {
     "data": {
      "image/png": "[encoded data removed]",
      "text/plain": [
       "<Figure size 432x288 with 1 Axes>"
      ]
     },
     "metadata": {
      "needs_background": "light"
     },
     "output_type": "display_data"
    },
    {
     "name": "stderr",
     "output_type": "stream",
     "text": [
      "/srv/conda/envs/notebook/lib/python3.7/site-packages/ipykernel_launcher.py:7: MatplotlibDeprecationWarning: \n",
      "The 'normed' kwarg was deprecated in Matplotlib 2.1 and will be removed in 3.1. Use 'density' instead.\n",
      "  import sys\n"
     ]
    },
    {
     "data": {
      "image/png": "[encoded data removed]",
      "text/plain": [
       "<Figure size 432x288 with 1 Axes>"
      ]
     },
     "metadata": {
      "needs_background": "light"
     },
     "output_type": "display_data"
    }
   ],
   "source": [
    "plt.hist(data_table[\"Protein\"], label=\"Protein data\", normed=True)\n",
    "plt.legend(loc=\"upper right\")\n",
    "plt.show()\n",
    "plt.hist(data_table[\"Carbohydrates\"], label=\"Carbohydrates data\", normed=True)\n",
    "plt.legend(loc=\"upper right\")\n",
    "plt.show()\n",
    "plt.hist(data_table[\"Fat\"], label=\"Fat data\", normed=True)\n",
    "plt.legend(loc=\"upper left\")\n",
    "plt.show()"
   ]
  },
  {
   "cell_type": "markdown",
   "metadata": {},
   "source": [
    "I have obtained that a and b clearly are arround 1, wich coincides with the results obtained in the last practice.Their posterior distributions have only one maximum. On the other hand, c posterior distribution have also a maxima near 1 but have a weider distribution. That is probably due to the Fat values being smaller than other mesured nutriens being so, c * Fat will in most data cases be contributing less than b * Carbohydrates even if c = 5 and b = 1. We can observe that in fact the same is happening with a, as Carbohydrates have a wide distribution, b is the most important to predict factor."
   ]
  },
  {
   "cell_type": "markdown",
   "metadata": {},
   "source": [
    "## Repeat, using the uniform distributions instead of the data:\n",
    "\n",
    "**Proteins ~ Uniform(0,1)**\n",
    "\n",
    "**Carbohydrates ~ Uniform(0,1)**\n",
    "\n",
    "**Fats ~ Uniform(0,1)**\n",
    "\n",
    "The values of Proteins, Carbohydrates and Fats in the file are the ones measured to the patients afterwards in blood tests."
   ]
  },
  {
   "cell_type": "code",
   "execution_count": 13,
   "metadata": {},
   "outputs": [],
   "source": [
    "# I create my parametric model (making initial guesses)\n",
    "with pm.Model() as model:\n",
    "    a = pm.Uniform(\"a\",0,5)\n",
    "    b = pm.Uniform(\"b\",0,5)  \n",
    "    c = pm.Uniform(\"c\",0,5) \n",
    "    Prot = pm.Uniform(\"Protein\",0,1)\n",
    "    Car = pm.Uniform(\"Carbohydrates\",0,1)\n",
    "    Fat = pm.Uniform(\"Fat\",0,1)\n",
    "\n",
    "\n",
    "# This says that the random variable lambda_ is equal to lambda_1 if bigger than tau or lambda_2 otherwise\n",
    "with model:\n",
    "    atp_ = a*Prot+b*Car+c*Fat\n",
    "\n",
    "# We add the observations to the model\n",
    "with model:\n",
    "    observation = pm.Poisson(\"obs\", atp_, observed=data_table[\"ATP\"])"
   ]
  },
  {
   "cell_type": "code",
   "execution_count": 14,
   "metadata": {},
   "outputs": [
    {
     "name": "stderr",
     "output_type": "stream",
     "text": [
      "Multiprocess sampling (4 chains in 4 jobs)\n",
      "CompoundStep\n",
      ">Metropolis: [Fat]\n",
      ">Metropolis: [Carbohydrates]\n",
      ">Metropolis: [Protein]\n",
      ">Metropolis: [c]\n",
      ">Metropolis: [b]\n",
      ">Metropolis: [a]\n",
      "Sampling 4 chains, 0 divergences: 100%|██████████| 60000/60000 [00:56<00:00, 1055.20draws/s]\n",
      "The number of effective samples is smaller than 10% for some parameters.\n"
     ]
    }
   ],
   "source": [
    "with model:\n",
    "    step = pm.Metropolis()\n",
    "    trace = pm.sample(10000, tune=5000,step=step)"
   ]
  },
  {
   "cell_type": "code",
   "execution_count": 16,
   "metadata": {},
   "outputs": [
    {
     "name": "stderr",
     "output_type": "stream",
     "text": [
      "/srv/conda/envs/notebook/lib/python3.7/site-packages/ipykernel_launcher.py:1: MatplotlibDeprecationWarning: \n",
      "The 'normed' kwarg was deprecated in Matplotlib 2.1 and will be removed in 3.1. Use 'density' instead.\n",
      "  \"\"\"Entry point for launching an IPython kernel.\n",
      "/srv/conda/envs/notebook/lib/python3.7/site-packages/ipykernel_launcher.py:2: MatplotlibDeprecationWarning: \n",
      "The 'normed' kwarg was deprecated in Matplotlib 2.1 and will be removed in 3.1. Use 'density' instead.\n",
      "  \n"
     ]
    },
    {
     "data": {
      "text/plain": [
       "Text(0.5, 0, 'Protein value')"
      ]
     },
     "execution_count": 16,
     "metadata": {},
     "output_type": "execute_result"
    },
    {
     "data": {
      "image/png": "[encoded data removed]",
      "text/plain": [
       "<Figure size 432x288 with 1 Axes>"
      ]
     },
     "metadata": {
      "needs_background": "light"
     },
     "output_type": "display_data"
    }
   ],
   "source": [
    "plt.hist(trace[\"Protein\"], label=\"posterior of Protein\", normed=True)\n",
    "plt.hist(data_table[\"Protein\"], label=\"Protein data\", normed=True)\n",
    "plt.legend(loc=\"upper left\")\n",
    "plt.xlabel(\"Protein value\")"
   ]
  },
  {
   "cell_type": "markdown",
   "metadata": {},
   "source": [
    "I did this because in the first attempt I had not used the given distributions for the nutriens. However I do not know what to conclude. The prior distributions given do not fit the real data, so they are not comparable. Moreover, training the formula **ATP** = **a  Proteins + b  Carbohydrates + c  Fats +** **ε** taking both nutrients and constants as independant unknowns will probably give ambiguous results as a * b = b * a. So a and Proteins values would be interchangeable for the model."
   ]
  }
 ],
 "metadata": {
  "kernelspec": {
   "display_name": "Python 3",
   "language": "python",
   "name": "python3"
  },
  "language_info": {
   "codemirror_mode": {
    "name": "ipython",
    "version": 3
   },
   "file_extension": ".py",
   "mimetype": "text/x-python",
   "name": "python",
   "nbconvert_exporter": "python",
   "pygments_lexer": "ipython3",
   "version": "3.7.6"
  }
 },
 "nbformat": 4,
 "nbformat_minor": 4
}
