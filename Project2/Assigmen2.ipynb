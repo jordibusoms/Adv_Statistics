{
 "cells": [
  {
   "cell_type": "markdown",
   "metadata": {},
   "source": [
    "\n",
    "In your laboratory they were following the diet of a single person and making metabolomics\n",
    "of biological samples extracted to this person at a fixed time post eating (the file with the\n",
    "data you will find it in my github). They propose the following model (very simple) model:\n",
    "\n",
    "**ATP = a * Proteins + b * Carbohydrates + c \\* Fats + ε**\n",
    "\n",
    "They ask you to find the best possible values from **a, b** and **c**, and say which is the extent of\n",
    "error that this model have.\n",
    "\n",
    "**Important:**  You can only use pandas and plotting libraries.\n",
    "\n",
    "## 0. Import pandas and plotting libraries"
   ]
  },
  {
   "cell_type": "code",
   "execution_count": 11,
   "metadata": {},
   "outputs": [],
   "source": [
    "import pandas as pd\n",
    "import matplotlib.pyplot as plt"
   ]
  },
  {
   "cell_type": "markdown",
   "metadata": {},
   "source": [
    "## 1. Read the data\n",
    "\n",
    "(Found in diet_and_atp.tsv, that I got from: https://github.com/leandroradusky/AdvancedStatistics/blob/master/data)"
   ]
  },
  {
   "cell_type": "code",
   "execution_count": 12,
   "metadata": {},
   "outputs": [
    {
     "data": {
      "text/html": [
       "<div>\n",
       "<style scoped>\n",
       "    .dataframe tbody tr th:only-of-type {\n",
       "        vertical-align: middle;\n",
       "    }\n",
       "\n",
       "    .dataframe tbody tr th {\n",
       "        vertical-align: top;\n",
       "    }\n",
       "\n",
       "    .dataframe thead th {\n",
       "        text-align: right;\n",
       "    }\n",
       "</style>\n",
       "<table border=\"1\" class=\"dataframe\">\n",
       "  <thead>\n",
       "    <tr style=\"text-align: right;\">\n",
       "      <th></th>\n",
       "      <th>Protein</th>\n",
       "      <th>Carbohydrates</th>\n",
       "      <th>Fat</th>\n",
       "      <th>ATP</th>\n",
       "    </tr>\n",
       "  </thead>\n",
       "  <tbody>\n",
       "    <tr>\n",
       "      <th>0</th>\n",
       "      <td>1.95</td>\n",
       "      <td>6.92</td>\n",
       "      <td>0.02</td>\n",
       "      <td>9.44</td>\n",
       "    </tr>\n",
       "    <tr>\n",
       "      <th>1</th>\n",
       "      <td>0.64</td>\n",
       "      <td>2.65</td>\n",
       "      <td>0.15</td>\n",
       "      <td>4.04</td>\n",
       "    </tr>\n",
       "    <tr>\n",
       "      <th>2</th>\n",
       "      <td>1.82</td>\n",
       "      <td>0.98</td>\n",
       "      <td>0.21</td>\n",
       "      <td>3.72</td>\n",
       "    </tr>\n",
       "    <tr>\n",
       "      <th>3</th>\n",
       "      <td>1.80</td>\n",
       "      <td>4.69</td>\n",
       "      <td>0.23</td>\n",
       "      <td>7.54</td>\n",
       "    </tr>\n",
       "    <tr>\n",
       "      <th>4</th>\n",
       "      <td>0.93</td>\n",
       "      <td>4.22</td>\n",
       "      <td>0.02</td>\n",
       "      <td>5.70</td>\n",
       "    </tr>\n",
       "  </tbody>\n",
       "</table>\n",
       "</div>"
      ],
      "text/plain": [
       "   Protein  Carbohydrates   Fat   ATP\n",
       "0     1.95           6.92  0.02  9.44\n",
       "1     0.64           2.65  0.15  4.04\n",
       "2     1.82           0.98  0.21  3.72\n",
       "3     1.80           4.69  0.23  7.54\n",
       "4     0.93           4.22  0.02  5.70"
      ]
     },
     "execution_count": 12,
     "metadata": {},
     "output_type": "execute_result"
    }
   ],
   "source": [
    "data_table = pd.read_csv(\"./diet_and_atp.tsv\", sep='\\t')\n",
    "data_table.head()"
   ]
  },
  {
   "cell_type": "markdown",
   "metadata": {},
   "source": [
    "## 2. Defining the function that should be minimized"
   ]
  },
  {
   "cell_type": "code",
   "execution_count": 195,
   "metadata": {},
   "outputs": [],
   "source": [
    "def ATP_prediction_error(a,b,c, data = data_table):\n",
    "    \"\"\"For a given paramaters: a, b, and c, returns the sum squared of ε =ATP-(a*Proteins+b*Carbohydrates+c*Fats) \"\"\"\n",
    "    SSE = 0 #sum squared error\n",
    "    for data_row in range(len(data)):\n",
    "        Error = data[\"ATP\"][data_row] - \\\n",
    "          (a*data[\"Protein\"][data_row] + b*data[\"Carbohydrates\"][data_row] + c*data[\"Fat\"][data_row])\n",
    "        SSE += Error**2\n",
    "    return SSE\n",
    "\n",
    "\n",
    "# If you like less lines cause \"totally cooler\", this does the exact same thing in a really large line\n",
    "\n",
    "#ATP_prediction_error = lambda a, b, c, data = data_table : sum([(data[\"ATP\"][i]-(a*data[\"Protein\"][i]+b*data[\"Carbohydrates\"][i]+c*data[\"Fat\"][i]))**2 for i in range(len(data))])"
   ]
  },
  {
   "cell_type": "markdown",
   "metadata": {},
   "source": [
    "## 3. Defining a function to get random numbers using pandas"
   ]
  },
  {
   "cell_type": "code",
   "execution_count": 103,
   "metadata": {},
   "outputs": [],
   "source": [
    "def random(n, a,b=0):\n",
    "    \"\"\"Returns n random integers between a and b using pandas.\"\"\"\n",
    "    return(list(pd.DataFrame([i for i in range(min((a,b)),max((a,b)))]).sample(n=n, replace=1)[0]))\n",
    "\n",
    "# In one line would be the same without a clear place to include an explanation:\n",
    "\n",
    "random = lambda n, a, b=0 : list(pd.DataFrame([i for i in range(min((a,b)),max((a,b)))]).sample(n=n, replace=1)[0])"
   ]
  },
  {
   "cell_type": "markdown",
   "metadata": {},
   "source": [
    "## 3. Markov Chain Monte Carlo"
   ]
  },
  {
   "cell_type": "code",
   "execution_count": 264,
   "metadata": {},
   "outputs": [],
   "source": [
    "def Markov_Chain_Monte_Carlo(function_to_minimize, n_args, data = data_table, starts = 10, iterations=100,\\\n",
    "                             param_range=(0,4) ):\n",
    "    \"\"\"Uses a Markov Chain Monte Carlo aproach to explore the function_to_minimize and returns the \n",
    "    arguments in witch it has find the minimum value\n",
    "    \n",
    "    It repeats the aproach \"starts\" times doing \"iterations\" steps on each of them. On each repeat, the paramaters are \n",
    "    set randomly to an integer within the \"param_range\" \"\"\"\n",
    "    \n",
    "    mimimum_values = [1]*n_args\n",
    "    minimum_found = function_to_minimize(*mimimum_values, data = data)\n",
    "    for start in range(starts):\n",
    "        current_values = random(n_args, *param_range)\n",
    "        cur_val = function_to_minimize(*current_values, data = data)\n",
    "        for iterat in range(iterations):\n",
    "            step = 1/(1+iterat/20)              # Reducing the length of the step when already near a minimum allows \n",
    "            in_var = random(1, n_args)[0]       # to find a more exat locatin \n",
    "            #print(step)\n",
    "            negative = random(1,2)[0]\n",
    "            \n",
    "            new_values = current_values\n",
    "            new_values[in_var] = new_values[in_var] + step*(1-2*negative)\n",
    "\n",
    "            new_val = function_to_minimize(*new_values, data = data)\n",
    "            \n",
    "            if new_val < cur_val:\n",
    "                \n",
    "                cur_val = new_val\n",
    "                current_values = new_values\n",
    "                #print(\"hello\", cur_val, current_values)\n",
    "                \n",
    "                if new_val < minimum_found:\n",
    "                    #print(\"new found!\", cur_val)\n",
    "                    print(new_val, cur_val, new_values)\n",
    "                    minimum_found = new_val\n",
    "                    mimimum_values = [i for i in new_values] # force copy without using library copy\n",
    "            \n",
    "            else:\n",
    "                if random(1,101)[0] > ((new_val - cur_val)/(cur_val))*100:\n",
    "                    #print(\"         hey      \",new_val, cur_val, ((new_val - cur_val)/(cur_val))*100)\n",
    "                    cur_val = new_val\n",
    "                    current_values = new_values\n",
    "    return(minimum_found, mimimum_values)\n",
    "                \n",
    "    "
   ]
  },
  {
   "cell_type": "code",
   "execution_count": 265,
   "metadata": {},
   "outputs": [
    {
     "name": "stdout",
     "output_type": "stream",
     "text": [
      "18.123400000000007 18.123400000000007 [1, 1.0, 2]\n",
      "13.79389999999999 13.79389999999999 [1.0, 1, 3]\n",
      "12.327917170594176 12.327917170594176 [1.0, 1.0871447393186522, 1]\n",
      "10.263412927856216 10.263412927856216 [1.0, 1.0871447393186522, 1.8333333333333335]\n"
     ]
    },
    {
     "data": {
      "text/plain": [
       "(10.263412927856216, [1.0, 1.0871447393186522, 1.8333333333333335])"
      ]
     },
     "execution_count": 265,
     "metadata": {},
     "output_type": "execute_result"
    }
   ],
   "source": [
    "Markov_Chain_Monte_Carlo(ATP_prediction_error, 3, starts = 100, iterations=50)"
   ]
  }
 ],
 "metadata": {
  "kernelspec": {
   "display_name": "Python 3",
   "language": "python",
   "name": "python3"
  },
  "language_info": {
   "codemirror_mode": {
    "name": "ipython",
    "version": 3
   },
   "file_extension": ".py",
   "mimetype": "text/x-python",
   "name": "python",
   "nbconvert_exporter": "python",
   "pygments_lexer": "ipython3",
   "version": "3.5.6"
  }
 },
 "nbformat": 4,
 "nbformat_minor": 2
}
