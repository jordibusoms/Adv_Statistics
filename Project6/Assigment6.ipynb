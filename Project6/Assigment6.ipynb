{
 "cells": [
  {
   "cell_type": "markdown",
   "metadata": {},
   "source": [
    "## *Problem1.* Program a function that given a causal graph (in matrix form) computes the basis set of independences to be checked to assert if that graph is a feasible causal structure."
   ]
  },
  {
   "cell_type": "code",
   "execution_count": 56,
   "metadata": {},
   "outputs": [],
   "source": [
    "def Pearl_basis_set(graph):\n",
    "    \"\"\"The graph must be represented by a square matrix, where each line contains ones in the node parents.\n",
    "    Returns the the minimum number of d-separation statements needed to completely specify the causal\n",
    "    graph as descrived by Pearl (1988)\"\"\"\n",
    "    basis_set = set() # given its name returning a set seems logical, a list could be used but could \n",
    "    for node1_index in range(len(graph)): # prone misunderstoods\n",
    "        for node2_index in range(node1_index+1,len(graph)):\n",
    "            if graph[node1_index][node2_index] or graph[node2_index][node1_index]: \n",
    "                continue # adjacent nodes\n",
    "            else: # non-adjacent nodes\n",
    "                parent_variables = []\n",
    "                for i in range(len(graph)):\n",
    "                    if graph[node1_index][i] or graph[node2_index][i]:\n",
    "                        parent_variables.append(i)\n",
    "                basis_set.add(tuple([node1_index,node2_index, tuple(parent_variables)]))\n",
    "    return basis_set"
   ]
  },
  {
   "cell_type": "markdown",
   "metadata": {},
   "source": [
    "### Give examples with different graphs and artificially generated data for both exercises."
   ]
  },
  {
   "cell_type": "code",
   "execution_count": 50,
   "metadata": {},
   "outputs": [],
   "source": [
    "import random\n",
    "\n",
    "\"\"\"class very_simple_matrix():\n",
    "    \\\"\"\"Just redifines str assuming the object is a list of list\\\"\"\"\n",
    "    def __init__(self):\n",
    "        self._list=list()\n",
    "        \n",
    "    def __getattr__(self, item):\n",
    "        print(item)\n",
    "        return object.__getattribute__(self._list,item) \n",
    "    \n",
    "    \n",
    "    def __str__(self):\n",
    "        s = \"\"\n",
    "        for i in self._list:\n",
    "            for y in i:\n",
    "                s += str(i)+\" \"\n",
    "            s += \"\\n\"\n",
    "        return s\"\"\"\n",
    "\n",
    "def gen_matrix(n,m=False):\n",
    "    if not m:\n",
    "        m = n\n",
    "    mat = list() #very_simple_matrix()\n",
    "    for rows in range(n):\n",
    "        row=[]\n",
    "        for column in range(m):\n",
    "            if m == n: # one variable can not influence itself, to be completely accurate cycles must be avoided to\n",
    "                row.append(0) # However, it's not needed to check the function works\n",
    "            else:\n",
    "                row.append(random.randint(0,1))\n",
    "        print(row)\n",
    "        mat.append(row)\n",
    "    return mat"
   ]
  },
  {
   "cell_type": "code",
   "execution_count": 57,
   "metadata": {},
   "outputs": [
    {
     "name": "stdout",
     "output_type": "stream",
     "text": [
      "[0, 0, 0, 0, 0]\n",
      "[0, 0, 1, 1, 1]\n",
      "[1, 1, 1, 0, 1]\n",
      "[0, 0, 0, 1, 1]\n",
      "[0, 0, 0, 1, 0]\n"
     ]
    },
    {
     "data": {
      "text/plain": [
       "{(0, 1, (2, 3, 4)), (0, 3, (3, 4)), (0, 4, (3,)), (2, 3, (0, 1, 2, 3, 4))}"
      ]
     },
     "execution_count": 57,
     "metadata": {},
     "output_type": "execute_result"
    }
   ],
   "source": [
    "m = gen_matrix(5)\n",
    "\n",
    "Pearl_basis_set(m)"
   ]
  },
  {
   "cell_type": "markdown",
   "metadata": {},
   "source": [
    "## *Problem2.* Program a function that given a basis set and data for all the variables computes the independences given the data (using Pearson Correlation) and returns True if the independences are observed. The threshold of correlation to consider independent or dependent two variables is a parameter of the function."
   ]
  },
  {
   "cell_type": "code",
   "execution_count": null,
   "metadata": {},
   "outputs": [],
   "source": [
    "def Pearson_Correlation_computation(data, covid1, covid2):\n",
    "    \"\"\"Computes the correlation between the covariates 1 and 2, wich identified as colum id.\n",
    "    There was no reasonable alibi to include -19\"\"\"\n",
    "    a = 0 # sorry about the name, this is the upper part of the coefficient\n",
    "    var1 = 0 \n",
    "    var2 = 0\n",
    "    mean1 = 0\n",
    "    mean2 = 0\n",
    "    for individual in data: #compute means\n",
    "        mean1 += individual[covid1]/len(data)\n",
    "        mean2 += individual[covid2]/len(data)\n",
    "    for individual in data: # compute a var1 and var2\n",
    "        a += (individual[covid1]-mean1)*(individual[covid2]-mean2)\n",
    "        var1 += (individual[covid1]-mean1)**2\n",
    "        var2 += (individual[covid2]-mean2)**2\n",
    "    return(a/(var1**0.5 * var2**0.5))"
   ]
  },
  {
   "cell_type": "code",
   "execution_count": null,
   "metadata": {},
   "outputs": [],
   "source": [
    "def independance_checker(basis, data, threshold):\n",
    "    \"\"\"Not taking into account parent variables\"\"\"\n",
    "    for pair_of_variables in basis:\n",
    "        if Pearson_Correlation_computation(data, pair_of_variables[0],pair_of_variables[1])> threshold:\n",
    "            return 0\n",
    "    return 1"
   ]
  }
 ],
 "metadata": {
  "kernelspec": {
   "display_name": "Python 3",
   "language": "python",
   "name": "python3"
  },
  "language_info": {
   "codemirror_mode": {
    "name": "ipython",
    "version": 3
   },
   "file_extension": ".py",
   "mimetype": "text/x-python",
   "name": "python",
   "nbconvert_exporter": "python",
   "pygments_lexer": "ipython3",
   "version": "3.7.4"
  }
 },
 "nbformat": 4,
 "nbformat_minor": 4
}
